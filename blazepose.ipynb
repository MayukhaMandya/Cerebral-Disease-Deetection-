{
 "cells": [
  {
   "cell_type": "code",
   "execution_count": 2,
   "id": "ece5afa8",
   "metadata": {
    "scrolled": false
   },
   "outputs": [
    {
     "name": "stdout",
     "output_type": "stream",
     "text": [
      "Requirement already satisfied: mediapipe in c:\\programdata\\anaconda3\\lib\\site-packages (0.9.1.0)\n",
      "Requirement already satisfied: opencv-python in c:\\users\\mayuk\\appdata\\roaming\\python\\python39\\site-packages (4.7.0.72)\n",
      "Requirement already satisfied: opencv-contrib-python in c:\\programdata\\anaconda3\\lib\\site-packages (from mediapipe) (4.7.0.72)\n",
      "Requirement already satisfied: attrs>=19.1.0 in c:\\programdata\\anaconda3\\lib\\site-packages (from mediapipe) (21.4.0)\n",
      "Requirement already satisfied: numpy in c:\\programdata\\anaconda3\\lib\\site-packages (from mediapipe) (1.21.5)\n",
      "Requirement already satisfied: absl-py in c:\\users\\mayuk\\appdata\\roaming\\python\\python39\\site-packages (from mediapipe) (1.4.0)\n",
      "Requirement already satisfied: flatbuffers>=2.0 in c:\\users\\mayuk\\appdata\\roaming\\python\\python39\\site-packages (from mediapipe) (23.3.3)\n",
      "Requirement already satisfied: protobuf<4,>=3.11 in c:\\users\\mayuk\\appdata\\roaming\\python\\python39\\site-packages (from mediapipe) (3.19.6)\n",
      "Requirement already satisfied: matplotlib in c:\\programdata\\anaconda3\\lib\\site-packages (from mediapipe) (3.5.2)\n",
      "Requirement already satisfied: cycler>=0.10 in c:\\programdata\\anaconda3\\lib\\site-packages (from matplotlib->mediapipe) (0.11.0)\n",
      "Requirement already satisfied: python-dateutil>=2.7 in c:\\programdata\\anaconda3\\lib\\site-packages (from matplotlib->mediapipe) (2.8.2)\n",
      "Requirement already satisfied: fonttools>=4.22.0 in c:\\programdata\\anaconda3\\lib\\site-packages (from matplotlib->mediapipe) (4.25.0)\n",
      "Requirement already satisfied: pillow>=6.2.0 in c:\\programdata\\anaconda3\\lib\\site-packages (from matplotlib->mediapipe) (9.2.0)\n",
      "Requirement already satisfied: packaging>=20.0 in c:\\programdata\\anaconda3\\lib\\site-packages (from matplotlib->mediapipe) (21.3)\n",
      "Requirement already satisfied: pyparsing>=2.2.1 in c:\\programdata\\anaconda3\\lib\\site-packages (from matplotlib->mediapipe) (3.0.9)\n",
      "Requirement already satisfied: kiwisolver>=1.0.1 in c:\\programdata\\anaconda3\\lib\\site-packages (from matplotlib->mediapipe) (1.4.2)\n",
      "Requirement already satisfied: six>=1.5 in c:\\programdata\\anaconda3\\lib\\site-packages (from python-dateutil>=2.7->matplotlib->mediapipe) (1.16.0)\n"
     ]
    }
   ],
   "source": [
    "!pip install mediapipe opencv-python\n"
   ]
  },
  {
   "cell_type": "code",
   "execution_count": 3,
   "id": "72bee477",
   "metadata": {},
   "outputs": [],
   "source": [
    "import cv2\n",
    "import mediapipe as mp\n",
    "import numpy as np\n",
    "mp_drawing = mp.solutions.drawing_utils\n",
    "mp_pose = mp.solutions.pose"
   ]
  },
  {
   "cell_type": "code",
   "execution_count": 5,
   "id": "a454ddd7",
   "metadata": {},
   "outputs": [
    {
     "data": {
      "text/plain": [
       "[x: 0.4924323856830597\n",
       "y: 0.25453048944473267\n",
       "z: -0.164575457572937\n",
       "visibility: 0.9942834377288818\n",
       ", x: 0.4952126741409302\n",
       "y: 0.2417796403169632\n",
       "z: -0.1637028306722641\n",
       "visibility: 0.9866257905960083\n",
       ", x: 0.4974370002746582\n",
       "y: 0.24071218073368073\n",
       "z: -0.16372130811214447\n",
       "visibility: 0.987860918045044\n",
       ", x: 0.49968335032463074\n",
       "y: 0.23998166620731354\n",
       "z: -0.16375170648097992\n",
       "visibility: 0.9860901832580566\n",
       ", x: 0.48931509256362915\n",
       "y: 0.24522371590137482\n",
       "z: -0.1553156077861786\n",
       "visibility: 0.9825240969657898\n",
       ", x: 0.4875516891479492\n",
       "y: 0.24584253132343292\n",
       "z: -0.155332550406456\n",
       "visibility: 0.9823275804519653\n",
       ", x: 0.48579108715057373\n",
       "y: 0.24648042023181915\n",
       "z: -0.15539738535881042\n",
       "visibility: 0.9824746251106262\n",
       ", x: 0.5043386816978455\n",
       "y: 0.2416851818561554\n",
       "z: -0.1050059124827385\n",
       "visibility: 0.9843540787696838\n",
       ", x: 0.4851427972316742\n",
       "y: 0.2469242513179779\n",
       "z: -0.0679217204451561\n",
       "visibility: 0.9717376232147217\n",
       ", x: 0.49791449308395386\n",
       "y: 0.2605213522911072\n",
       "z: -0.14012767374515533\n",
       "visibility: 0.9945160746574402\n",
       ", x: 0.4902779757976532\n",
       "y: 0.26380836963653564\n",
       "z: -0.125299334526062\n",
       "visibility: 0.9925671815872192\n",
       ", x: 0.5287461876869202\n",
       "y: 0.29160746932029724\n",
       "z: -0.06487946212291718\n",
       "visibility: 0.9982973337173462\n",
       ", x: 0.46772778034210205\n",
       "y: 0.29566317796707153\n",
       "z: -0.026915747672319412\n",
       "visibility: 0.9988915324211121\n",
       ", x: 0.5305969715118408\n",
       "y: 0.3785156309604645\n",
       "z: -0.14008556306362152\n",
       "visibility: 0.9390867948532104\n",
       ", x: 0.45675885677337646\n",
       "y: 0.37590429186820984\n",
       "z: -0.1125250980257988\n",
       "visibility: 0.9646684527397156\n",
       ", x: 0.49667802453041077\n",
       "y: 0.3209401071071625\n",
       "z: -0.23503535985946655\n",
       "visibility: 0.8894585967063904\n",
       ", x: 0.4991004765033722\n",
       "y: 0.3338412046432495\n",
       "z: -0.22532181441783905\n",
       "visibility: 0.9089295268058777\n",
       ", x: 0.48681893944740295\n",
       "y: 0.3084545433521271\n",
       "z: -0.26078158617019653\n",
       "visibility: 0.7983253598213196\n",
       ", x: 0.5075507164001465\n",
       "y: 0.32996290922164917\n",
       "z: -0.2535594701766968\n",
       "visibility: 0.8021539449691772\n",
       ", x: 0.4890512228012085\n",
       "y: 0.29879000782966614\n",
       "z: -0.2538731098175049\n",
       "visibility: 0.7846948504447937\n",
       ", x: 0.507910966873169\n",
       "y: 0.31881314516067505\n",
       "z: -0.24373283982276917\n",
       "visibility: 0.7763100266456604\n",
       ", x: 0.49202901124954224\n",
       "y: 0.30191197991371155\n",
       "z: -0.23396985232830048\n",
       "visibility: 0.7150777578353882\n",
       ", x: 0.5042911767959595\n",
       "y: 0.32039403915405273\n",
       "z: -0.2242984175682068\n",
       "visibility: 0.705272912979126\n",
       ", x: 0.5177968144416809\n",
       "y: 0.4705747961997986\n",
       "z: -0.005578482523560524\n",
       "visibility: 0.9990296959877014\n",
       ", x: 0.47752249240875244\n",
       "y: 0.46851733326911926\n",
       "z: 0.00561683950945735\n",
       "visibility: 0.9990612864494324\n",
       ", x: 0.5236465930938721\n",
       "y: 0.5556344389915466\n",
       "z: -0.1335177719593048\n",
       "visibility: 0.9891143441200256\n",
       ", x: 0.4751080572605133\n",
       "y: 0.5617514848709106\n",
       "z: -0.08120987564325333\n",
       "visibility: 0.9914783835411072\n",
       ", x: 0.5280106663703918\n",
       "y: 0.6727477312088013\n",
       "z: 0.021870868280529976\n",
       "visibility: 0.9815346598625183\n",
       ", x: 0.47283637523651123\n",
       "y: 0.6828462481498718\n",
       "z: 0.05632913485169411\n",
       "visibility: 0.9881249666213989\n",
       ", x: 0.5247400403022766\n",
       "y: 0.683966875076294\n",
       "z: 0.03374295309185982\n",
       "visibility: 0.8472142219543457\n",
       ", x: 0.4765220284461975\n",
       "y: 0.6937372088432312\n",
       "z: 0.06642577797174454\n",
       "visibility: 0.8755548000335693\n",
       ", x: 0.5320868492126465\n",
       "y: 0.7253773212432861\n",
       "z: -0.057896703481674194\n",
       "visibility: 0.9765099883079529\n",
       ", x: 0.4667949676513672\n",
       "y: 0.7349045872688293\n",
       "z: -0.02384371869266033\n",
       "visibility: 0.9812493920326233\n",
       "]"
      ]
     },
     "execution_count": 5,
     "metadata": {},
     "output_type": "execute_result"
    }
   ],
   "source": [
    "landmarks"
   ]
  },
  {
   "cell_type": "code",
   "execution_count": 6,
   "id": "15db90fb",
   "metadata": {},
   "outputs": [
    {
     "name": "stdout",
     "output_type": "stream",
     "text": [
      "PoseLandmark.NOSE\n",
      "PoseLandmark.LEFT_EYE_INNER\n",
      "PoseLandmark.LEFT_EYE\n",
      "PoseLandmark.LEFT_EYE_OUTER\n",
      "PoseLandmark.RIGHT_EYE_INNER\n",
      "PoseLandmark.RIGHT_EYE\n",
      "PoseLandmark.RIGHT_EYE_OUTER\n",
      "PoseLandmark.LEFT_EAR\n",
      "PoseLandmark.RIGHT_EAR\n",
      "PoseLandmark.MOUTH_LEFT\n",
      "PoseLandmark.MOUTH_RIGHT\n",
      "PoseLandmark.LEFT_SHOULDER\n",
      "PoseLandmark.RIGHT_SHOULDER\n",
      "PoseLandmark.LEFT_ELBOW\n",
      "PoseLandmark.RIGHT_ELBOW\n",
      "PoseLandmark.LEFT_WRIST\n",
      "PoseLandmark.RIGHT_WRIST\n",
      "PoseLandmark.LEFT_PINKY\n",
      "PoseLandmark.RIGHT_PINKY\n",
      "PoseLandmark.LEFT_INDEX\n",
      "PoseLandmark.RIGHT_INDEX\n",
      "PoseLandmark.LEFT_THUMB\n",
      "PoseLandmark.RIGHT_THUMB\n",
      "PoseLandmark.LEFT_HIP\n",
      "PoseLandmark.RIGHT_HIP\n",
      "PoseLandmark.LEFT_KNEE\n",
      "PoseLandmark.RIGHT_KNEE\n",
      "PoseLandmark.LEFT_ANKLE\n",
      "PoseLandmark.RIGHT_ANKLE\n",
      "PoseLandmark.LEFT_HEEL\n",
      "PoseLandmark.RIGHT_HEEL\n",
      "PoseLandmark.LEFT_FOOT_INDEX\n",
      "PoseLandmark.RIGHT_FOOT_INDEX\n"
     ]
    }
   ],
   "source": [
    "for lndmrk in mp_pose.PoseLandmark:\n",
    "    print(lndmrk)"
   ]
  },
  {
   "cell_type": "code",
   "execution_count": 7,
   "id": "b2ac4b6a",
   "metadata": {},
   "outputs": [
    {
     "data": {
      "text/plain": [
       "x: 0.5287461876869202\n",
       "y: 0.29160746932029724\n",
       "z: -0.06487946212291718\n",
       "visibility: 0.9982973337173462"
      ]
     },
     "execution_count": 7,
     "metadata": {},
     "output_type": "execute_result"
    }
   ],
   "source": [
    "landmarks[mp_pose.PoseLandmark.LEFT_SHOULDER.value]\n"
   ]
  },
  {
   "cell_type": "code",
   "execution_count": 8,
   "id": "10d1b7ba",
   "metadata": {},
   "outputs": [
    {
     "data": {
      "text/plain": [
       "x: 0.5280106663703918\n",
       "y: 0.6727477312088013\n",
       "z: 0.021870868280529976\n",
       "visibility: 0.9815346598625183"
      ]
     },
     "execution_count": 8,
     "metadata": {},
     "output_type": "execute_result"
    }
   ],
   "source": [
    "landmarks[mp_pose.PoseLandmark.LEFT_ANKLE.value]"
   ]
  },
  {
   "cell_type": "code",
   "execution_count": 9,
   "id": "ae6475ca",
   "metadata": {},
   "outputs": [
    {
     "data": {
      "text/plain": [
       "x: 0.5320868492126465\n",
       "y: 0.7253773212432861\n",
       "z: -0.057896703481674194\n",
       "visibility: 0.9765099883079529"
      ]
     },
     "execution_count": 9,
     "metadata": {},
     "output_type": "execute_result"
    }
   ],
   "source": [
    "landmarks[mp_pose.PoseLandmark.LEFT_FOOT_INDEX.value]"
   ]
  },
  {
   "cell_type": "code",
   "execution_count": 10,
   "id": "2792fc8c",
   "metadata": {},
   "outputs": [
    {
     "data": {
      "text/plain": [
       "x: 0.5236465930938721\n",
       "y: 0.5556344389915466\n",
       "z: -0.1335177719593048\n",
       "visibility: 0.9891143441200256"
      ]
     },
     "execution_count": 10,
     "metadata": {},
     "output_type": "execute_result"
    }
   ],
   "source": [
    "landmarks[mp_pose.PoseLandmark.LEFT_KNEE.value]"
   ]
  },
  {
   "cell_type": "code",
   "execution_count": 11,
   "id": "a833a21d",
   "metadata": {},
   "outputs": [
    {
     "data": {
      "text/plain": [
       "x: 0.46772778034210205\n",
       "y: 0.29566317796707153\n",
       "z: -0.026915747672319412\n",
       "visibility: 0.9988915324211121"
      ]
     },
     "execution_count": 11,
     "metadata": {},
     "output_type": "execute_result"
    }
   ],
   "source": [
    "landmarks[mp_pose.PoseLandmark.RIGHT_SHOULDER.value]\n"
   ]
  },
  {
   "cell_type": "code",
   "execution_count": 12,
   "id": "57d22543",
   "metadata": {},
   "outputs": [
    {
     "data": {
      "text/plain": [
       "x: 0.4751080572605133\n",
       "y: 0.5617514848709106\n",
       "z: -0.08120987564325333\n",
       "visibility: 0.9914783835411072"
      ]
     },
     "execution_count": 12,
     "metadata": {},
     "output_type": "execute_result"
    }
   ],
   "source": [
    "landmarks[mp_pose.PoseLandmark.RIGHT_KNEE.value]"
   ]
  },
  {
   "cell_type": "code",
   "execution_count": 13,
   "id": "8c23524f",
   "metadata": {},
   "outputs": [
    {
     "data": {
      "text/plain": [
       "x: 0.47283637523651123\n",
       "y: 0.6828462481498718\n",
       "z: 0.05632913485169411\n",
       "visibility: 0.9881249666213989"
      ]
     },
     "execution_count": 13,
     "metadata": {},
     "output_type": "execute_result"
    }
   ],
   "source": [
    "landmarks[mp_pose.PoseLandmark.RIGHT_ANKLE.value]"
   ]
  },
  {
   "cell_type": "code",
   "execution_count": 14,
   "id": "2a26acb2",
   "metadata": {},
   "outputs": [
    {
     "data": {
      "text/plain": [
       "x: 0.4667949676513672\n",
       "y: 0.7349045872688293\n",
       "z: -0.02384371869266033\n",
       "visibility: 0.9812493920326233"
      ]
     },
     "execution_count": 14,
     "metadata": {},
     "output_type": "execute_result"
    }
   ],
   "source": [
    "landmarks[mp_pose.PoseLandmark.RIGHT_FOOT_INDEX.value]"
   ]
  },
  {
   "cell_type": "code",
   "execution_count": 15,
   "id": "7ad5d8ec",
   "metadata": {},
   "outputs": [
    {
     "data": {
      "text/plain": [
       "x: 0.4751080572605133\n",
       "y: 0.5617514848709106\n",
       "z: -0.08120987564325333\n",
       "visibility: 0.9914783835411072"
      ]
     },
     "execution_count": 15,
     "metadata": {},
     "output_type": "execute_result"
    }
   ],
   "source": [
    "landmarks[mp_pose.PoseLandmark.RIGHT_KNEE.value]"
   ]
  },
  {
   "cell_type": "code",
   "execution_count": 16,
   "id": "51b8b1d1",
   "metadata": {},
   "outputs": [
    {
     "data": {
      "text/plain": [
       "x: 0.5305969715118408\n",
       "y: 0.3785156309604645\n",
       "z: -0.14008556306362152\n",
       "visibility: 0.9390867948532104"
      ]
     },
     "execution_count": 16,
     "metadata": {},
     "output_type": "execute_result"
    }
   ],
   "source": [
    "landmarks[mp_pose.PoseLandmark.LEFT_ELBOW.value]\n"
   ]
  },
  {
   "cell_type": "code",
   "execution_count": 17,
   "id": "91282271",
   "metadata": {},
   "outputs": [
    {
     "data": {
      "text/plain": [
       "x: 0.45675885677337646\n",
       "y: 0.37590429186820984\n",
       "z: -0.1125250980257988\n",
       "visibility: 0.9646684527397156"
      ]
     },
     "execution_count": 17,
     "metadata": {},
     "output_type": "execute_result"
    }
   ],
   "source": [
    "landmarks[mp_pose.PoseLandmark.RIGHT_ELBOW.value]\n"
   ]
  },
  {
   "cell_type": "code",
   "execution_count": 18,
   "id": "bdd65f8c",
   "metadata": {},
   "outputs": [
    {
     "data": {
      "text/plain": [
       "x: 0.49667802453041077\n",
       "y: 0.3209401071071625\n",
       "z: -0.23503535985946655\n",
       "visibility: 0.8894585967063904"
      ]
     },
     "execution_count": 18,
     "metadata": {},
     "output_type": "execute_result"
    }
   ],
   "source": [
    "landmarks[mp_pose.PoseLandmark.LEFT_WRIST.value]\n"
   ]
  },
  {
   "cell_type": "code",
   "execution_count": 19,
   "id": "99d1fd62",
   "metadata": {},
   "outputs": [
    {
     "data": {
      "text/plain": [
       "x: 0.4991004765033722\n",
       "y: 0.3338412046432495\n",
       "z: -0.22532181441783905\n",
       "visibility: 0.9089295268058777"
      ]
     },
     "execution_count": 19,
     "metadata": {},
     "output_type": "execute_result"
    }
   ],
   "source": [
    "landmarks[mp_pose.PoseLandmark.RIGHT_WRIST.value]\n"
   ]
  },
  {
   "cell_type": "code",
   "execution_count": 20,
   "id": "b2e02d87",
   "metadata": {},
   "outputs": [],
   "source": [
    "def calculate_angle_l(a1,b1,c1):\n",
    "    a1 = np.array(a1) \n",
    "    b1 = np.array(b1) \n",
    "    c1 = np.array(c1) \n",
    "  \n",
    "    \n",
    "    radians1 = np.arctan2(c1[1]-b1[1], c1[0]-b1[0]) - np.arctan2(a1[1]-b1[1], a1[0]-b1[0]) \n",
    "    \n",
    "\n",
    "    angle1 = np.abs(radians1*180.0/np.pi)\n",
    "    \n",
    "\n",
    "    if angle1 >180.0 :\n",
    "        angle1 = 360 - angle1\n",
    "        \n",
    "        \n",
    "    return round(angle1, 1)\n"
   ]
  },
  {
   "cell_type": "code",
   "execution_count": 24,
   "id": "adba421d",
   "metadata": {},
   "outputs": [],
   "source": [
    "l_shoulder = [landmarks[mp_pose.PoseLandmark.LEFT_SHOULDER.value].x,landmarks[mp_pose.PoseLandmark.LEFT_SHOULDER.value].y]\n",
    "l_elbow = [landmarks[mp_pose.PoseLandmark.LEFT_ELBOW.value].x,landmarks[mp_pose.PoseLandmark.LEFT_ELBOW.value].y]\n",
    "l_wrist = [landmarks[mp_pose.PoseLandmark.LEFT_WRIST.value].x,landmarks[mp_pose.PoseLandmark.LEFT_WRIST.value].y]"
   ]
  },
  {
   "cell_type": "code",
   "execution_count": 25,
   "id": "d1bfe89f",
   "metadata": {},
   "outputs": [],
   "source": [
    "l_ankle = [landmarks[mp_pose.PoseLandmark.LEFT_ANKLE.value].x,landmarks[mp_pose.PoseLandmark.LEFT_ANKLE.value].y]\n",
    "l_knee = [landmarks[mp_pose.PoseLandmark.LEFT_KNEE.value].x,landmarks[mp_pose.PoseLandmark.LEFT_KNEE.value].y]\n",
    "l_fi = [landmarks[mp_pose.PoseLandmark.LEFT_FOOT_INDEX.value].x,landmarks[mp_pose.PoseLandmark.LEFT_FOOT_INDEX.value].y]"
   ]
  },
  {
   "cell_type": "code",
   "execution_count": 26,
   "id": "029d587f",
   "metadata": {},
   "outputs": [],
   "source": [
    "r_shoulder = [landmarks[mp_pose.PoseLandmark.RIGHT_SHOULDER.value].x,landmarks[mp_pose.PoseLandmark.RIGHT_SHOULDER.value].y]\n",
    "r_elbow = [landmarks[mp_pose.PoseLandmark.RIGHT_ELBOW.value].x,landmarks[mp_pose.PoseLandmark.RIGHT_ELBOW.value].y]\n",
    "r_wrist = [landmarks[mp_pose.PoseLandmark.RIGHT_WRIST.value].x,landmarks[mp_pose.PoseLandmark.RIGHT_WRIST.value].y]"
   ]
  },
  {
   "cell_type": "code",
   "execution_count": 27,
   "id": "d1e9a3c2",
   "metadata": {},
   "outputs": [],
   "source": [
    "r_ankle = [landmarks[mp_pose.PoseLandmark.RIGHT_ANKLE.value].x,landmarks[mp_pose.PoseLandmark.RIGHT_ANKLE.value].y]\n",
    "r_knee = [landmarks[mp_pose.PoseLandmark.RIGHT_KNEE.value].x,landmarks[mp_pose.PoseLandmark.RIGHT_KNEE.value].y]\n",
    "r_fi = [landmarks[mp_pose.PoseLandmark.RIGHT_FOOT_INDEX.value].x,landmarks[mp_pose.PoseLandmark.RIGHT_FOOT_INDEX.value].y]"
   ]
  },
  {
   "cell_type": "code",
   "execution_count": 28,
   "id": "f4e12188",
   "metadata": {},
   "outputs": [
    {
     "data": {
      "text/plain": [
       "([0.5287461876869202, 0.29160746932029724],\n",
       " [0.5305969715118408, 0.3785156309604645],\n",
       " [0.49667802453041077, 0.3209401071071625],\n",
       " [0.46772778034210205, 0.29566317796707153],\n",
       " [0.45675885677337646, 0.37590429186820984],\n",
       " [0.4991004765033722, 0.3338412046432495],\n",
       " [0.47283637523651123, 0.6828462481498718],\n",
       " [0.4751080572605133, 0.5617514848709106],\n",
       " [0.4667949676513672, 0.7349045872688293],\n",
       " [0.5280106663703918, 0.6727477312088013],\n",
       " [0.5236465930938721, 0.5556344389915466],\n",
       " [0.5320868492126465, 0.7253773212432861])"
      ]
     },
     "execution_count": 28,
     "metadata": {},
     "output_type": "execute_result"
    }
   ],
   "source": [
    "l_shoulder, l_elbow, l_wrist, r_shoulder, r_elbow, r_wrist,r_ankle,r_knee,r_fi,l_ankle,l_knee,l_fi"
   ]
  },
  {
   "cell_type": "code",
   "execution_count": 29,
   "id": "9979e5cd",
   "metadata": {},
   "outputs": [
    {
     "data": {
      "text/plain": [
       "29.3"
      ]
     },
     "execution_count": 29,
     "metadata": {},
     "output_type": "execute_result"
    }
   ],
   "source": [
    "calculate_angle_l(l_shoulder, l_elbow, l_wrist)"
   ]
  },
  {
   "cell_type": "code",
   "execution_count": 30,
   "id": "f2305978",
   "metadata": {},
   "outputs": [
    {
     "data": {
      "text/plain": [
       "37.4"
      ]
     },
     "execution_count": 30,
     "metadata": {},
     "output_type": "execute_result"
    }
   ],
   "source": [
    "calculate_angle_r(r_shoulder, r_elbow, r_wrist)"
   ]
  },
  {
   "cell_type": "code",
   "execution_count": 31,
   "id": "73396052",
   "metadata": {},
   "outputs": [
    {
     "data": {
      "text/plain": [
       "1.7"
      ]
     },
     "execution_count": 31,
     "metadata": {},
     "output_type": "execute_result"
    }
   ],
   "source": [
    "calculate_angle_leg1(r_ankle,r_knee,r_fi)"
   ]
  },
  {
   "cell_type": "code",
   "execution_count": 32,
   "id": "4d50cc4d",
   "metadata": {},
   "outputs": [
    {
     "data": {
      "text/plain": [
       "0.7"
      ]
     },
     "execution_count": 32,
     "metadata": {},
     "output_type": "execute_result"
    }
   ],
   "source": [
    "calculate_angle_leg2(l_ankle,l_knee,l_fi)"
   ]
  },
  {
   "cell_type": "code",
   "execution_count": 34,
   "id": "39302b7f",
   "metadata": {},
   "outputs": [],
   "source": [
    "import time \n",
    "import pandas as pd\n",
    "import csv\n",
    "import os\n"
   ]
  },
  {
   "cell_type": "code",
   "execution_count": 54,
   "id": "9ab73af4",
   "metadata": {},
   "outputs": [],
   "source": [
    "cap = cv2.VideoCapture('v1.mp4')\n",
    "stage = None\n",
    "prev_time = time.time()\n",
    "with mp_pose.Pose(min_detection_confidence=0.5, min_tracking_confidence=0.5) as pose:\n",
    "    while cap.isOpened():\n",
    "        ret, frame = cap.read()\n",
    "        image = cv2.cvtColor(frame, cv2.COLOR_BGR2RGB)\n",
    "        image.flags.writeable = False\n",
    "        results = pose.process(image)\n",
    "        image.flags.writeable = True\n",
    "        image = cv2.cvtColor(image, cv2.COLOR_RGB2BGR)\n",
    "        try:\n",
    "            landmarks = results.pose_landmarks.landmark\n",
    "            l_shoulder = [landmarks[mp_pose.PoseLandmark.LEFT_SHOULDER.value].x, landmarks[mp_pose.PoseLandmark.LEFT_SHOULDER.value].y]\n",
    "            l_elbow = [landmarks[mp_pose.PoseLandmark.LEFT_ELBOW.value].x, landmarks[mp_pose.PoseLandmark.LEFT_ELBOW.value].y]\n",
    "            l_wrist = [landmarks[mp_pose.PoseLandmark.LEFT_WRIST.value].x, landmarks[mp_pose.PoseLandmark.LEFT_WRIST.value].y]\n",
    "            r_shoulder = [landmarks[mp_pose.PoseLandmark.RIGHT_SHOULDER.value].x, landmarks[mp_pose.PoseLandmark.RIGHT_SHOULDER.value].y]\n",
    "            r_elbow = [landmarks[mp_pose.PoseLandmark.RIGHT_ELBOW.value].x, landmarks[mp_pose.PoseLandmark.RIGHT_ELBOW.value].y]\n",
    "            r_wrist = [landmarks[mp_pose.PoseLandmark.RIGHT_WRIST.value].x, landmarks[mp_pose.PoseLandmark.RIGHT_WRIST.value].y]\n",
    "            l_ankle = [landmarks[mp_pose.PoseLandmark.LEFT_ANKLE.value].x, landmarks[mp_pose.PoseLandmark.LEFT_ANKLE.value].y]\n",
    "            l_knee = [landmarks[mp_pose.PoseLandmark.LEFT_KNEE.value].x, landmarks[mp_pose.PoseLandmark.LEFT_KNEE.value].y]\n",
    "            l_fi = [landmarks[mp_pose.PoseLandmark.LEFT_FOOT_INDEX.value].x, landmarks[mp_pose.PoseLandmark.LEFT_FOOT_INDEX.value].y]\n",
    "            r_ankle = [landmarks[mp_pose.PoseLandmark.RIGHT_ANKLE.value].x, landmarks[mp_pose.PoseLandmark.RIGHT_ANKLE.value].y]\n",
    "            r_knee = [landmarks[mp_pose.PoseLandmark.RIGHT_KNEE.value].x, landmarks[mp_pose.PoseLandmark.RIGHT_KNEE.value].y]\n",
    "            r_fi = [landmarks[mp_pose.PoseLandmark.RIGHT_FOOT_INDEX.value].x, landmarks[mp_pose.PoseLandmark.RIGHT_FOOT_INDEX.value].y]\n",
    "            angle1 = calculate_angle_l(l_shoulder, l_elbow, l_wrist)\n",
    "            angle2 = calculate_angle_r(r_shoulder, r_elbow, r_wrist)\n",
    "            angle4 = calculate_angle_leg2(l_ankle, l_knee, l_fi)\n",
    "            angle3 = calculate_angle_leg1(r_ankle, r_knee, r_fi)\n",
    "   \n",
    "            def calculate_target(stage):\n",
    "                if stage == \"Effected\":\n",
    "                    return 1\n",
    "                else:\n",
    "                    return 0\n",
    "\n",
    "            target = calculate_target(stage)\n",
    "        except:\n",
    "            pass\n",
    "        cv2.rectangle(image, (0,0), (5,55), (245,117,16), -1)\n",
    "        cv2.putText(image, stage, \n",
    "                    (190,90), \n",
    "                    cv2.FONT_HERSHEY_SIMPLEX, 1, (200,255,200), 2, cv2.LINE_AA)\n",
    "        mp_drawing.draw_landmarks(image, results.pose_landmarks, mp_pose.POSE_CONNECTIONS,\n",
    "                                mp_drawing.DrawingSpec(color=(245,117,66), thickness=2, circle_radius=1), \n",
    "                                mp_drawing.DrawingSpec(color=(245,66,230), thickness=2, circle_radius=1) \n",
    "                                 )               \n",
    "        cv2.imshow('Mediapipe Feed', image)\n",
    "\n",
    "        if cv2.waitKey(10) & 0xFF == ord('q'):\n",
    "            break\n",
    "    cap.release()\n",
    "    cv2.destroyAllWindows()"
   ]
  },
  {
   "cell_type": "code",
   "execution_count": null,
   "id": "0ebb0d8d",
   "metadata": {},
   "outputs": [],
   "source": []
  }
 ],
 "metadata": {
  "kernelspec": {
   "display_name": "Python 3 (ipykernel)",
   "language": "python",
   "name": "python3"
  },
  "language_info": {
   "codemirror_mode": {
    "name": "ipython",
    "version": 3
   },
   "file_extension": ".py",
   "mimetype": "text/x-python",
   "name": "python",
   "nbconvert_exporter": "python",
   "pygments_lexer": "ipython3",
   "version": "3.9.13"
  }
 },
 "nbformat": 4,
 "nbformat_minor": 5
}
